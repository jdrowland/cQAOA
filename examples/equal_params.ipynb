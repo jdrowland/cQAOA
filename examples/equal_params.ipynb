{
 "cells": [
  {
   "cell_type": "markdown",
   "id": "c0be26cd",
   "metadata": {},
   "source": [
    "# Plan:\n",
    "1. Do a round of regular QAOA, keeping the lowest-energy bitstring.\n",
    "1. Using this bitstring, do $p$ rounds of cQAOA with fixed $\\alpha$,\n",
    "and make a heatmap of energy vs. $\\gamma$ and $\\beta$.\n",
    "1. Repeat for different values of $\\alpha$."
   ]
  },
  {
   "cell_type": "code",
   "execution_count": 1,
   "id": "49e35e15",
   "metadata": {},
   "outputs": [],
   "source": [
    "from typing import List, Tuple\n",
    "import h5py\n",
    "import numpy as np\n",
    "import cirq\n",
    "from scipy.optimize import minimize\n",
    "import pandas as pd\n",
    "import matplotlib.pyplot as plt\n",
    "import networkx as nx\n",
    "from cqaoa.ansatz import CylicQAOAAnsatz\n",
    "from cqaoa.maxcut import edge_operator, maxcut_hamiltonian, bitstring_energy"
   ]
  },
  {
   "cell_type": "code",
   "execution_count": 2,
   "id": "0d422657",
   "metadata": {},
   "outputs": [
    {
     "name": "stdout",
     "output_type": "stream",
     "text": [
      "(2,)\n"
     ]
    }
   ],
   "source": [
    "n = 16\n",
    "p = 2\n",
    "qs = cirq.LineQubit.range(n)\n",
    "qubit_graph = nx.Graph()\n",
    "for i in range(len(qs)):\n",
    "    qubit_graph.add_edge(qs[i], qs[(i+1) % len(qs)])\n",
    "hamiltonian = maxcut_hamiltonian(qubit_graph)\n",
    "alpha = np.zeros(p)\n",
    "print(alpha.shape)\n",
    "ref = np.array([False] * n, dtype=bool)\n",
    "ansatz = CylicQAOAAnsatz(qubit_graph, hamiltonian, alpha=alpha, reference=ref)"
   ]
  },
  {
   "cell_type": "code",
   "execution_count": 3,
   "id": "e160d364",
   "metadata": {},
   "outputs": [],
   "source": [
    "def optimize_ansatz(ansatz: CylicQAOAAnsatz, gamma0: float, beta0: float, p: int):\n",
    "\n",
    "    def objective_callback(params: np.ndarray) -> float:\n",
    "        \"\"\"Get energy for p rounds with equal gamma and beta.\n",
    "        Should pass [gamma, beta]\"\"\"\n",
    "\n",
    "        assert params.size == 2\n",
    "        n = len(ansatz.qubits)\n",
    "        gammas = np.array([params[0]] * p)\n",
    "        betas = np.array([params[1]] * p)\n",
    "        return ansatz.energy(gammas, betas)\n",
    "    \n",
    "    vars0 = np.array([gamma0, beta0])\n",
    "    opt_result = minimize(objective_callback, vars0, method=\"Powell\", options={\"maxiter\": 1_000_000})\n",
    "    assert opt_result.success, f\"Optimizer failed: {opt_result.message}\"\n",
    "    optimized_energy =  objective_callback(opt_result.x)\n",
    "    assert opt_result.x.size == 2\n",
    "    gamma_opt = opt_result.x[0]\n",
    "    beta_opt = opt_result.x[1]\n",
    "    return optimized_energy, gamma_opt, beta_opt"
   ]
  },
  {
   "cell_type": "code",
   "execution_count": 4,
   "id": "1e4c0d93",
   "metadata": {},
   "outputs": [
    {
     "name": "stdout",
     "output_type": "stream",
     "text": [
      "Final energy = -12.336836283034373\n",
      "gamma = 3.8419124042996766 beta = 0.15786523280033063\n"
     ]
    }
   ],
   "source": [
    "gamma0 = 0.1\n",
    "beta0 = 0.2\n",
    "energy, gamma_opt, beta_opt = optimize_ansatz(ansatz, gamma0, beta0, p)\n",
    "print(f\"Final energy = {energy}\")\n",
    "print(f\"gamma = {gamma_opt} beta = {beta_opt}\")"
   ]
  },
  {
   "cell_type": "code",
   "execution_count": 5,
   "id": "f885a21e",
   "metadata": {},
   "outputs": [
    {
     "name": "stdout",
     "output_type": "stream",
     "text": [
      "   q(6)  q(1)  q(9)  q(4)  q(3)  q(0)  q(11)  q(12)  q(7)  q(2)  q(13)  q(8)  \\\n",
      "0     1     0     1     1     0     1      1      0     0     1      0     0   \n",
      "1     1     1     0     1     0     0      1      0     0     0      1     1   \n",
      "2     1     1     1     0     1     0      0      0     0     0      1     0   \n",
      "3     0     0     0     1     1     1      1      0     0     0      1     1   \n",
      "4     0     0     0     0     1     1      0      1     1     0      0     1   \n",
      "\n",
      "   q(14)  q(15)  q(10)  q(5)  \n",
      "0      1      0      0     0  \n",
      "1      0      1      0     0  \n",
      "2      1      0      1     1  \n",
      "3      1      0      0     1  \n",
      "4      1      0      1     1  \n"
     ]
    }
   ],
   "source": [
    "gammas = np.array([gamma_opt] * p)\n",
    "betas = np.array([beta_opt] * p)\n",
    "samples = ansatz.sample_bitstrings(gammas, betas, 10_000)\n",
    "print(samples.head())"
   ]
  },
  {
   "cell_type": "code",
   "execution_count": 6,
   "id": "5805038d",
   "metadata": {},
   "outputs": [
    {
     "name": "stdout",
     "output_type": "stream",
     "text": [
      "Bitstring \n",
      "[False  True False  True False  True False  True False  True False  True\n",
      " False  True False  True]\n",
      "has energy -16.0.\n"
     ]
    }
   ],
   "source": [
    "# Get the bitstring with the lowest energy.\n",
    "\n",
    "def cirq_samples_to_sorted_ndarray(samples: pd.DataFrame) -> np.ndarray:\n",
    "    \"\"\"Cirq returns a dataframe of samples with column names like q(12).\n",
    "    We want to sort these clumns by their integer values and then convert the DataFrame\n",
    "    to an np array of booleans.\"\"\"\n",
    "\n",
    "    nsamples = len(samples)\n",
    "    ncols = len(samples.columns)\n",
    "\n",
    "    col_name_index_pairs: List[Tuple[str, int]] = []\n",
    "    for col_name in samples.columns:\n",
    "        digits = ''.join(c for c in col_name if c.isdigit())\n",
    "        if len(digits) == 0:\n",
    "            raise ValueError(f\"Column name {col_name} has no digits.\")\n",
    "        col_name_index_pairs.append((col_name, int(digits)))\n",
    "    # Sort the column name, index pairs by the index.\n",
    "    sorted_indices = sorted(col_name_index_pairs, key=lambda t: t[1])\n",
    "    sorted_column_names = [t[0] for t in sorted_indices]\n",
    "    # Put columnns into the array in order.\n",
    "    samples_np = np.zeros((nsamples, ncols), dtype=bool)\n",
    "    for i, col in enumerate(sorted_column_names):\n",
    "        bool_column = samples[col].to_numpy()\n",
    "        samples_np[:, i] = bool_column.copy()\n",
    "    return samples_np\n",
    "\n",
    "def lowest_energy(samples):\n",
    "    sample_array = cirq_samples_to_sorted_ndarray(samples)\n",
    "    sample_energies = [bitstring_energy(bs, hamiltonian) for bs in sample_array]\n",
    "    min_energy_idx = np.argmin(sample_energies)\n",
    "    min_energy_bitstring = sample_array[min_energy_idx, :]\n",
    "    return (sample_energies[min_energy_idx], min_energy_bitstring)\n",
    "\n",
    "min_energy, min_energy_bitstring = lowest_energy(samples)\n",
    "print(f\"Bitstring \\n{min_energy_bitstring}\\nhas energy {min_energy}.\")"
   ]
  },
  {
   "cell_type": "code",
   "execution_count": null,
   "id": "913107a9",
   "metadata": {},
   "outputs": [],
   "source": [
    "def energy_heatmap(\n",
    "    gammas: np.ndarray, betas: np.ndarray, alpha: float,\n",
    "    bitstring: np.ndarray, graph: nx.Graph, p: int, shots\n",
    ") -> Tuple[np.ndarray, ...]:\n",
    "    \"\"\"Construct an energy heatmap for p rounds of cQAOA with equal gamma\n",
    "    and beta for each round.\"\"\"\n",
    "\n",
    "    hamiltonian = maxcut_hamiltonian(graph)\n",
    "    alphas = np.array([alpha] * p)\n",
    "    ansatz = CylicQAOAAnsatz(qubit_graph, hamiltonian, alpha=alphas, reference=bitstring)\n",
    "\n",
    "    energies = np.zeros((gammas.size, betas.size), dtype=float)\n",
    "    sampled_energies = np.zeros((gammas.size, betas.size), dtype=float)\n",
    "    for i, gamma in enumerate(gammas):\n",
    "        for j, beta in enumerate(betas):\n",
    "            ckt_gammas = np.array([gamma] * p)\n",
    "            ckt_betas = np.array([beta] * p)\n",
    "            samples = ansatz.sample_bitstrings(ckt_gammas, ckt_betas, 10_000)\n",
    "            sample_energy, _ = lowest_energy(samples)\n",
    "            energies[i, j] = ansatz.energy(ckt_gammas, ckt_betas)\n",
    "            sampled_energies[i, j] = sample_energy\n",
    "    return (energies, sampled_energies) \n",
    "\n",
    "shots = 10_000\n",
    "gammas = np.linspace(0., 4., num=20)\n",
    "betas = np.linspace(0., 1., num=20)\n",
    "alphas = np.linspace(0., 0.2, num=5)\n",
    "all_energies = np.zeros((gammas.size, betas.size, alphas.size), dtype=float)\n",
    "all_sampled_energies = np.zeros((gammas.size, betas.size, alphas.size), dtype=float)\n",
    "for i, alpha in enumerate(alphas):\n",
    "    energies, sampled_energies = energy_heatmap(\n",
    "        gammas, betas, alpha, min_energy_bitstring, qubit_graph, p, shots\n",
    "    )\n",
    "    all_energies[:, :, i] = energies\n",
    "    all_sampled_energies[:, :, i] = sampled_energies"
   ]
  },
  {
   "cell_type": "code",
   "execution_count": null,
   "id": "17c9c19b",
   "metadata": {},
   "outputs": [
    {
     "data": {
      "image/png": "[encoded data removed]",
      "text/plain": [
       "<Figure size 1000x600 with 10 Axes>"
      ]
     },
     "metadata": {},
     "output_type": "display_data"
    }
   ],
   "source": [
    "fig, ax = plt.subplots(1, alphas.size, figsize=(10., 6.))\n",
    "extent = (np.min(betas), np.max(betas), np.min(gammas), np.max(gammas))\n",
    "for i, alpha in enumerate(alphas):\n",
    "    im = ax[i].imshow(all_energies[:, :, i], extent=extent, aspect=0.6)\n",
    "    ax[i].set_title(f\"$\\\\alpha$ = {alpha:0.3f}\")\n",
    "    plt.colorbar(im, ax=ax[i])\n",
    "plt.tight_layout()"
   ]
  },
  {
   "cell_type": "code",
   "execution_count": null,
   "id": "8358b233",
   "metadata": {},
   "outputs": [
    {
     "data": {
      "image/png": "[encoded data removed]",
      "text/plain": [
       "<Figure size 1000x600 with 10 Axes>"
      ]
     },
     "metadata": {},
     "output_type": "display_data"
    }
   ],
   "source": [
    "fig2, ax2 = plt.subplots(1, alphas.size, figsize=(10., 6.))\n",
    "extent = (np.min(betas), np.max(betas), np.min(gammas), np.max(gammas))\n",
    "for i, alpha in enumerate(alphas):\n",
    "    im = ax2[i].imshow(all_sampled_energies[:, :, i], extent=extent, aspect=0.6)\n",
    "    ax2[i].set_title(f\"$\\\\alpha$ = {alpha:0.3f}\")\n",
    "    plt.colorbar(im, ax=ax2[i])\n",
    "plt.tight_layout()"
   ]
  },
  {
   "cell_type": "code",
   "execution_count": null,
   "id": "4f4ad04a",
   "metadata": {},
   "outputs": [],
   "source": [
    "f = h5py.File(\"../data/equal_gab.hdf5\", \"w\")\n",
    "f.create_dataset(\"gammas\", data=gammas)\n",
    "f.create_dataset(\"betas\", data=betas)\n",
    "f.create_dataset(\"alphas\", data=alphas)\n",
    "f.create_dataset(\"all_energies\", data=all_energies)\n",
    "f.create_dataset(\"all_sampled_energies\", data=all_sampled_energies)\n",
    "f.close()"
   ]
  },
  {
   "cell_type": "code",
   "execution_count": null,
   "id": "252e0c03",
   "metadata": {},
   "outputs": [],
   "source": []
  }
 ],
 "metadata": {
  "kernelspec": {
   "display_name": "cqaoa",
   "language": "python",
   "name": "python3"
  },
  "language_info": {
   "codemirror_mode": {
    "name": "ipython",
    "version": 3
   },
   "file_extension": ".py",
   "mimetype": "text/x-python",
   "name": "python",
   "nbconvert_exporter": "python",
   "pygments_lexer": "ipython3",
   "version": "3.10.9"
  }
 },
 "nbformat": 4,
 "nbformat_minor": 5
}
