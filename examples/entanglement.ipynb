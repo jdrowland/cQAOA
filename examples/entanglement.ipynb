{
 "cells": [
  {
   "cell_type": "code",
   "execution_count": 10,
   "id": "60a36012",
   "metadata": {},
   "outputs": [],
   "source": [
    "from typing import List, Tuple, Dict, Optional\n",
    "from dataclasses import dataclass\n",
    "import h5py\n",
    "import numpy as np\n",
    "import scipy.linalg as la\n",
    "from scipy.optimize import minimize\n",
    "import pandas as pd\n",
    "import networkx as nx\n",
    "import cirq\n",
    "from cqaoa.ansatz import CylicQAOAAnsatz\n",
    "from cqaoa.maxcut import edge_operator, maxcut_hamiltonian, bitstring_energy"
   ]
  },
  {
   "cell_type": "code",
   "execution_count": 11,
   "id": "d5de8b52",
   "metadata": {},
   "outputs": [
    {
     "name": "stdout",
     "output_type": "stream",
     "text": [
      "(4,)\n"
     ]
    }
   ],
   "source": [
    "n = 8\n",
    "lr = n // 2\n",
    "p = 4\n",
    "qs = cirq.LineQubit.range(n)\n",
    "qubit_graph = nx.Graph()\n",
    "lefts = [i for i in range(lr)]\n",
    "rights = [i for i in range(lr,n)]\n",
    "for left in lefts:\n",
    "    for right in rights:\n",
    "        qubit_graph.add_edge(qs[left], qs[right], weight=1.0)\n",
    "rng_inst = np.random.default_rng(9090)\n",
    "h = rng_inst.normal(0., 0.35, size=n)\n",
    "for i in range(n):\n",
    "    qubit_graph.add_edge(qs[i],qs[i],weight = h[i])\n",
    "\n",
    "hamiltonian = maxcut_hamiltonian(qubit_graph)\n",
    "alpha = np.zeros(p)\n",
    "print(alpha.shape)\n",
    "ref = np.array([False] * n, dtype=bool)\n",
    "ansatz = CylicQAOAAnsatz(qubit_graph, hamiltonian, weighted=True, alpha=alpha, reference=ref)"
   ]
  },
  {
   "cell_type": "code",
   "execution_count": 12,
   "id": "6a5aa1b4",
   "metadata": {},
   "outputs": [],
   "source": [
    "def objective_callback(ansatz: CylicQAOAAnsatz, params: np.ndarray) -> float:\n",
    "    \"\"\"Get the energy expectation for certain parameters.\"\"\"\n",
    "\n",
    "    assert params.size % 2 == 0\n",
    "    p = params.size // 2\n",
    "    gammas = params[:p]\n",
    "    betas = params[p:]\n",
    "    return ansatz.energy(gammas, betas)\n",
    "\n",
    "\n",
    "def optimize_ansatz(ansatz: CylicQAOAAnsatz, gamma0: np.ndarray, beta0: np.ndarray) -> Tuple[np.ndarray, np.ndarray, float]:\n",
    "    \"\"\"Minimize the energy, returning the optimal gamma and beta parameters.\"\"\"\n",
    "\n",
    "    assert gamma0.size == beta0.size\n",
    "\n",
    "    p = gamma0.size\n",
    "    params0 = np.concat([gamma0, beta0])\n",
    "    opt_result = minimize(\n",
    "        lambda params: objective_callback(ansatz, params),\n",
    "        params0, method=\"Powell\", options={\"maxiter\": 1_000_000}\n",
    "    )\n",
    "    assert opt_result.success, f\"Optimizer failed: {opt_result.message}\"\n",
    "    optimized_energy = objective_callback(ansatz, opt_result.x)\n",
    "    gamma_opt = opt_result.x[:p]\n",
    "    beta_opt = opt_result.x[p:]\n",
    "    return (gamma_opt, beta_opt, optimized_energy)"
   ]
  },
  {
   "cell_type": "code",
   "execution_count": 13,
   "id": "0fa885e8",
   "metadata": {},
   "outputs": [],
   "source": [
    "def cirq_samples_to_sorted_ndarray(samples: pd.DataFrame) -> np.ndarray:\n",
    "    \"\"\"Cirq returns a dataframe of samples with column names like q(12).\n",
    "    We want to sort these clumns by their integer values and then convert the DataFrame\n",
    "    to an np array of booleans.\"\"\"\n",
    "\n",
    "    nsamples = len(samples)\n",
    "    ncols = len(samples.columns)\n",
    "\n",
    "    col_name_index_pairs: List[Tuple[str, int]] = []\n",
    "    for col_name in samples.columns:\n",
    "        digits = ''.join(c for c in col_name if c.isdigit())\n",
    "        if len(digits) == 0:\n",
    "            raise ValueError(f\"Column name {col_name} has no digits.\")\n",
    "        col_name_index_pairs.append((col_name, int(digits)))\n",
    "    # Sort the column name, index pairs by the index.\n",
    "    sorted_indices = sorted(col_name_index_pairs, key=lambda t: t[1])\n",
    "    sorted_column_names = [t[0] for t in sorted_indices]\n",
    "    # Put columnns into the array in order.\n",
    "    samples_np = np.zeros((nsamples, ncols), dtype=bool)\n",
    "    for i, col in enumerate(sorted_column_names):\n",
    "        bool_column = samples[col].to_numpy()\n",
    "        samples_np[:, i] = bool_column.copy()\n",
    "    return samples_np"
   ]
  },
  {
   "cell_type": "code",
   "execution_count": 14,
   "id": "1b8e5ec6",
   "metadata": {},
   "outputs": [
    {
     "name": "stdout",
     "output_type": "stream",
     "text": [
      "(4,)\n",
      "Got energy -20.0 with bitstring\n",
      "[ True  True  True  True False False False False]\n"
     ]
    }
   ],
   "source": [
    "# Get a reference state by sampling lots of bitstrings\n",
    "# from an optimized Ansatz with alpha = 0.\n",
    "\n",
    "alpha = np.zeros(p)\n",
    "print(alpha.shape)\n",
    "ref = np.array([False] * n, dtype=bool)\n",
    "ansatz = CylicQAOAAnsatz(qubit_graph, hamiltonian, weighted=True, alpha=alpha, reference=ref)\n",
    "\n",
    "gamma0 = np.random.rand(p)\n",
    "beta0 = np.random.rand(p)\n",
    "gamma_opt, beta_opt, optimize_energy = optimize_ansatz(ansatz, gamma0, beta0)\n",
    "\n",
    "shots = 10_000\n",
    "bitstrings_df = ansatz.sample_bitstrings(gamma_opt, beta_opt, shots)\n",
    "bitstrings_array = cirq_samples_to_sorted_ndarray(bitstrings_df).T\n",
    "bitstrings = [bitstrings_array[:, i] for i in range(bitstrings_array.shape[1])]\n",
    "energies = [bitstring_energy(bs, hamiltonian) for bs in bitstrings]\n",
    "i_min = np.argmin(energies)\n",
    "energy_min = energies[i_min]\n",
    "ref = bitstrings[i_min]\n",
    "print(f\"Got energy {energy_min} with bitstring\\n{ref}\")"
   ]
  },
  {
   "cell_type": "code",
   "execution_count": 15,
   "id": "1b667691",
   "metadata": {},
   "outputs": [],
   "source": [
    "def entanglement_stats(psi: np.ndarray, nqubits: int) -> Dict[str, float]:\n",
    "    \"\"\"Get mean, std, min, and max von Neumann entropy across all bipartitions\n",
    "    on the line of qubits. For example, if there are 4 qubits, then there are three possible\n",
    "    bipartitions: between qubits 0 and 1, between 1 and 2, and between 2 and 3.\"\"\"\n",
    "\n",
    "    rho = np.outer(psi, psi.conj())\n",
    "    rho_tensor = rho.reshape((2,) * (2 * nqubits))\n",
    "    entropies: List[float] = []\n",
    "    for i in range(1, nqubits - 1):\n",
    "        rho_reduced = cirq.partial_trace(rho_tensor, range(i))\n",
    "        rho_reduced_matrix = rho_reduced.reshape((2 ** i, 2 ** i))\n",
    "        entropy = cirq.von_neumann_entropy(rho_reduced_matrix)\n",
    "        entropies.append(entropy)\n",
    "    results = {}\n",
    "    results[\"min\"] = np.min(entropies)\n",
    "    results[\"max\"] = np.max(entropies)\n",
    "    results[\"mean\"] = np.mean(entropies)\n",
    "    results[\"std\"] = np.std(entropies)\n",
    "    return results"
   ]
  },
  {
   "cell_type": "code",
   "execution_count": 16,
   "id": "52c78ed6",
   "metadata": {},
   "outputs": [
    {
     "name": "stdout",
     "output_type": "stream",
     "text": [
      "Optimized energy: -16.775839017063845\n"
     ]
    }
   ],
   "source": [
    "alpha = 0.2 * np.ones(p)\n",
    "ref = np.array([False] * n, dtype=bool)\n",
    "ansatz = CylicQAOAAnsatz(qubit_graph, hamiltonian, weighted=True, alpha=alpha, reference=ref)\n",
    "gamma0 = np.random.rand(p)\n",
    "beta0 = np.random.rand(p)\n",
    "gamma_opt, beta_opt, energy_opt = optimize_ansatz(ansatz, gamma0, beta0)\n",
    "print(f\"Optimized energy: {energy_opt}\")"
   ]
  },
  {
   "cell_type": "code",
   "execution_count": 17,
   "id": "f9464797",
   "metadata": {},
   "outputs": [
    {
     "name": "stdout",
     "output_type": "stream",
     "text": [
      "min 0.9726496\n",
      "max 1.7495462\n",
      "mean 1.4813786\n",
      "std 0.25998184\n"
     ]
    }
   ],
   "source": [
    "ckt = ansatz.circuit(gamma_opt, beta_opt)\n",
    "sim = cirq.Simulator()\n",
    "sim_result = sim.simulate(ckt)\n",
    "psi = sim_result.final_state_vector\n",
    "entropy_results = entanglement_stats(psi, n)\n",
    "for k, v in entropy_results.items():\n",
    "    print(k, v)"
   ]
  },
  {
   "cell_type": "code",
   "execution_count": 18,
   "id": "2ca3c802",
   "metadata": {},
   "outputs": [],
   "source": [
    "@dataclass\n",
    "class EntropyResult:\n",
    "    \"\"\"Result of evaluating entanglement entropy.\"\"\"\n",
    "\n",
    "    alpha: float\n",
    "    gamma: np.ndarray\n",
    "    beta: np.ndarray\n",
    "    psi: np.ndarray\n",
    "    energy: float\n",
    "    min_entropy: float\n",
    "    max_entropy: float\n",
    "    mean_entropy: float\n",
    "    std_entropy: float\n",
    "\n",
    "\n",
    "def entropy_result_for_alpha(p: int, alpha: float, ref: np.ndarray) -> EntropyResult:\n",
    "    \"\"\"Optimize the Ansatz for a fixed alpha value (alpha_0 = ... = alpha_p),\n",
    "    then get statistics of the entanglement for the final state.\"\"\"\n",
    "\n",
    "    alphas = alpha * np.ones(p)\n",
    "    ref = np.array([False] * n, dtype=bool)\n",
    "    ansatz = CylicQAOAAnsatz(qubit_graph, hamiltonian, weighted=True, alpha=alphas, reference=ref)\n",
    "    gamma0 = np.random.rand(p)\n",
    "    beta0 = np.random.rand(p)\n",
    "    gamma_opt, beta_opt, energy_opt = optimize_ansatz(ansatz, gamma0, beta0)\n",
    "    ckt = ansatz.circuit(gamma_opt, beta_opt)\n",
    "    sim = cirq.Simulator()\n",
    "    sim_result = sim.simulate(ckt)\n",
    "    psi = sim_result.final_state_vector\n",
    "    entropy_dict = entanglement_stats(psi, n)\n",
    "    entropy_result = EntropyResult(\n",
    "        alpha, gamma_opt, beta_opt, psi, energy_opt,\n",
    "        entropy_dict[\"min\"], entropy_dict[\"max\"], entropy_dict[\"mean\"], entropy_dict[\"std\"]\n",
    "    )\n",
    "    return entropy_result"
   ]
  },
  {
   "cell_type": "code",
   "execution_count": 19,
   "id": "c918259c",
   "metadata": {},
   "outputs": [],
   "source": [
    "class EntropyResultCollection:\n",
    "\n",
    "    def __init__(\n",
    "        self, n: int = 0,\n",
    "        alphas: List[float] = [],\n",
    "        gammas: List[np.ndarray] = [],\n",
    "        betas: List[np.ndarray] = [],\n",
    "        psis: List[np.ndarray] = [],\n",
    "        energies: List[float] = [],\n",
    "        min_entropies: List[float] = [],\n",
    "        max_entropies: List[float] = [],\n",
    "        mean_entropies: List[float] = [],\n",
    "        std_entropies: List[float] = []\n",
    "    ):\n",
    "        self._n = n\n",
    "        self._alphas = alphas\n",
    "        self._gammas = gammas\n",
    "        self._betas = betas\n",
    "        self._psis = psis\n",
    "        self._energies = energies\n",
    "        self._min_entropies = min_entropies\n",
    "        self._max_entropies = max_entropies\n",
    "        self._mean_entropies = mean_entropies\n",
    "        self._std_entropies = std_entropies\n",
    "    \n",
    "    def append(self, result: EntropyResult):\n",
    "        \"\"\"Append an instance of EntropyResult to the collection.\"\"\"\n",
    "\n",
    "        self._n += 1\n",
    "        self._alphas.append(result.alpha)\n",
    "        self._gammas.append(result.gamma)\n",
    "        self._betas.append(result.beta)\n",
    "        self._psis.append(result.psi)\n",
    "        self._energies.append(result.energy)\n",
    "        self._min_entropies.append(result.min_entropy)\n",
    "        self._max_entropies.append(result.max_entropy)\n",
    "        self._mean_entropies.append(result.mean_entropy)\n",
    "        self._std_entropies.append(result.std_entropy)\n",
    "    \n",
    "    def entropy_dataframe(self) -> pd.DataFrame:\n",
    "        \"\"\"Conver the entopy statistics and energies into a DataFrame, with the value of alpha serving as the index.\"\"\"\n",
    "\n",
    "        records = []\n",
    "        for i in range(self._n):\n",
    "            records.append(\n",
    "                (self._alphas[i], self._energies[i],\n",
    "                self._min_entropies[i], self._max_entropies[i], \n",
    "                self._mean_entropies[i], self._std_entropies[i])\n",
    "            )\n",
    "        df = pd.DataFrame.from_records(\n",
    "            records, \n",
    "            columns=[\"alpha\", \"energy\", \"min_entropy\", \"max_entropy\", \"mean_entropy\", \"std_entropy\"]\n",
    "        )\n",
    "        df.set_index(\"alpha\", inplace=True)\n",
    "        return df\n",
    "    \n",
    "    def to_hdf5(self, fname: str):\n",
    "        \"\"\"Convert the collection into an HDF5 file.\"\"\"\n",
    "\n",
    "        f = h5py.File(fname, \"w\")\n",
    "        f.create_dataset(\"n\", data=self._n)\n",
    "        f.create_dataset(\"alphas\", data=np.vstack(self._alphas).T)\n",
    "        f.create_dataset(\"betas\", data=np.vstack(self._betas).T)\n",
    "        f.create_dataset(\"psis\", data=np.vstack(self._psis).T)\n",
    "        f.create_dataset(\"energies\", data=np.array(self._energies))\n",
    "        f.create_dataset(\"min_entropy\", data=np.array(self._min_entropies))\n",
    "        f.create_dataset(\"max_entropy\", data=np.array(self._max_entropies))\n",
    "        f.create_dataset(\"mean_entropy\", data=np.array(self._mean_entropies))\n",
    "        f.create_dataset(\"std_entropy\", data=np.array(self._std_entropies))\n",
    "        f.close()"
   ]
  },
  {
   "cell_type": "code",
   "execution_count": 21,
   "id": "5bd9eb27",
   "metadata": {},
   "outputs": [],
   "source": [
    "alphas = np.linspace(0., 1., num=3)\n",
    "entropy_result_collection = EntropyResultCollection()\n",
    "for alpha in alphas:\n",
    "    entropy_result = entropy_result_for_alpha(p, alpha, ref)\n",
    "    entropy_result_collection.append(entropy_result)"
   ]
  },
  {
   "cell_type": "code",
   "execution_count": 22,
   "id": "79dfc11b",
   "metadata": {},
   "outputs": [
    {
     "name": "stdout",
     "output_type": "stream",
     "text": [
      "          energy  min_entropy  max_entropy  mean_entropy  std_entropy\n",
      "alpha                                                                \n",
      "0.0   -17.315802     0.971548     1.589768      1.364430     0.203053\n",
      "0.5   -18.458953     0.999229     1.392565      1.270965     0.131488\n",
      "1.0   -18.023741     0.975651     1.704475      1.429140     0.239761\n"
     ]
    }
   ],
   "source": [
    "df = entropy_result_collection.entropy_dataframe()\n",
    "print(df.head())"
   ]
  },
  {
   "cell_type": "code",
   "execution_count": 23,
   "id": "79cdd6f6",
   "metadata": {},
   "outputs": [],
   "source": [
    "entropy_result_collection.to_hdf5(\"../data/entropy_results.hdf5\")"
   ]
  },
  {
   "cell_type": "code",
   "execution_count": null,
   "id": "e36776b8",
   "metadata": {},
   "outputs": [],
   "source": []
  }
 ],
 "metadata": {
  "kernelspec": {
   "display_name": "cqaoa",
   "language": "python",
   "name": "cqaoa"
  },
  "language_info": {
   "codemirror_mode": {
    "name": "ipython",
    "version": 3
   },
   "file_extension": ".py",
   "mimetype": "text/x-python",
   "name": "python",
   "nbconvert_exporter": "python",
   "pygments_lexer": "ipython3",
   "version": "3.13.7"
  }
 },
 "nbformat": 4,
 "nbformat_minor": 5
}
