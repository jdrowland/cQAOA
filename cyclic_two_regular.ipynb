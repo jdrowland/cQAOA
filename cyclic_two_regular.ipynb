{
 "cells": [
  {
   "cell_type": "code",
   "execution_count": 1,
   "metadata": {},
   "outputs": [],
   "source": [
    "from typing import Sequence, Tuple, List\n",
    "import numpy as np\n",
    "from scipy.optimize import minimize\n",
    "import matplotlib.pyplot as plt\n",
    "import pandas as pd\n",
    "import networkx as nx\n",
    "import cirq\n",
    "from ansatz import CylicQAOAAnsatz\n",
    "from maxcut import edge_operator, maxcut_hamiltonian, bitstring_energy"
   ]
  },
  {
   "cell_type": "code",
   "execution_count": 2,
   "metadata": {},
   "outputs": [],
   "source": [
    "def optimize_ansatz(ansatz, gamma, beta):\n",
    "    def objective_callback(vars: np.ndarray):\n",
    "        assert vars.size % 2 == 0\n",
    "        \n",
    "        gammas = vars[:(vars.size // 2)]\n",
    "        betas = vars[(vars.size // 2):]\n",
    "        return ansatz.energy(gammas, betas)\n",
    "\n",
    "    vars0 = np.concatenate((gamma, beta))\n",
    "    opt_result = minimize(objective_callback, vars0, method=\"Powell\", options={\"maxiter\": 1_000_000})\n",
    "    assert opt_result.success, f\"Optimizer failed: {opt_result.message}\"\n",
    "    optimized_energy =  objective_callback(opt_result.x)\n",
    "    gamma_opt = opt_result.x[:gamma.size]\n",
    "    beta_opt = opt_result.x[gamma.size:]\n",
    "    return optimized_energy, gamma_opt, beta_opt\n",
    "\n",
    "\n",
    "def optmize_ansatz_random_start(ansatz, layers, repetitions):\n",
    "    gammas = np.random.rand(repetitions, layers)\n",
    "    betas = np.random.rand(repetitions, layers)\n",
    "    all_outputs = []\n",
    "    for i in range(repetitions):\n",
    "        all_outputs.append(optimize_ansatz(ansatz, gammas[i, :], betas[i, :]))\n",
    "    energies = [out[0] for out in all_outputs]\n",
    "    i_opt = np.argmin(energies)\n",
    "    return all_outputs[i_opt]"
   ]
  },
  {
   "cell_type": "code",
   "execution_count": 3,
   "metadata": {},
   "outputs": [
    {
     "name": "stdout",
     "output_type": "stream",
     "text": [
      "-3.9999105036258698\n"
     ]
    }
   ],
   "source": [
    "n = 5\n",
    "qs = cirq.LineQubit.range(n)\n",
    "qubit_graph = nx.Graph()\n",
    "for i in range(len(qs)):\n",
    "    qubit_graph.add_edge(qs[i], qs[(i+1) % len(qs)])\n",
    "hamiltonian = maxcut_hamiltonian(qubit_graph)\n",
    "ansatz = CylicQAOAAnsatz(qubit_graph, hamiltonian)\n",
    "\n",
    "no_reference_energy, gamma, beta = optmize_ansatz_random_start(ansatz, 5, 10)\n",
    "print(no_reference_energy)"
   ]
  },
  {
   "cell_type": "code",
   "execution_count": 19,
   "metadata": {},
   "outputs": [],
   "source": [
    "# Try different reference terms.\n",
    "p = n - 1 # Number of time steps in Ansatz.\n",
    "alpha = np.linspace(0.1, 0.0, num=p)\n",
    "\n",
    "energies = []\n",
    "for _ in range(100):\n",
    "    ref_term = np.random.rand(len(qubit_graph.nodes)) > 0.5\n",
    "    ansatz = CylicQAOAAnsatz(qubit_graph, hamiltonian, alpha=alpha, reference=ref_term)\n",
    "    energy, gamma, beta = optmize_ansatz_random_start(ansatz, p, 10)\n",
    "    energies.append(energy)"
   ]
  },
  {
   "cell_type": "code",
   "execution_count": 20,
   "metadata": {},
   "outputs": [
    {
     "name": "stdout",
     "output_type": "stream",
     "text": [
      "-3.9999708235263824\n"
     ]
    }
   ],
   "source": [
    "print(np.min(energies))"
   ]
  },
  {
   "cell_type": "code",
   "execution_count": 21,
   "metadata": {},
   "outputs": [
    {
     "data": {
      "text/plain": [
       "(array([ 2.,  1.,  0.,  4.,  9., 12.,  9., 22., 30., 11.]),\n",
       " array([0.99794839, 0.9981577 , 0.998367  , 0.99857631, 0.99878562,\n",
       "        0.99899493, 0.99920423, 0.99941354, 0.99962285, 0.99983216,\n",
       "        1.00004146]),\n",
       " <BarContainer object of 10 artists>)"
      ]
     },
     "execution_count": 21,
     "metadata": {},
     "output_type": "execute_result"
    },
    {
     "data": {
      "image/png": "[encoded data removed]",
      "text/plain": [
       "<Figure size 640x480 with 1 Axes>"
      ]
     },
     "metadata": {},
     "output_type": "display_data"
    }
   ],
   "source": [
    "plt.hist(np.array(energies) / no_reference_energy)"
   ]
  },
  {
   "cell_type": "code",
   "execution_count": 9,
   "metadata": {},
   "outputs": [
    {
     "name": "stdout",
     "output_type": "stream",
     "text": [
      "i =  0\n",
      "reference =  [True, True, True, True, True]\n",
      "Energy =  -3.9999122619628906\n",
      "(1000, 5)\n",
      "Best energy =  -4.0\n",
      "i =  1\n",
      "reference =  [1 1 0 1 0]\n",
      "Energy =  -3.9995846152305603\n",
      "(1000, 5)\n",
      "Best energy =  -4.0\n",
      "i =  2\n",
      "reference =  [1 0 1 0 1]\n",
      "Energy =  -3.9996904134750366\n",
      "(1000, 5)\n",
      "Best energy =  -4.0\n"
     ]
    }
   ],
   "source": [
    "rounds = 3\n",
    "p = 2\n",
    "reference = [True] * len(qubit_graph.nodes)\n",
    "alpha = np.linspace(2.0, 0.0, num=p)\n",
    "for i in range(rounds):\n",
    "    print(\"i = \", i)\n",
    "    print(\"reference = \", reference)\n",
    "    ansatz = CylicQAOAAnsatz(qubit_graph, hamiltonian, reference=reference, alpha=alpha)\n",
    "    energy, gamma, beta = optmize_ansatz_random_start(ansatz, p, 10)\n",
    "    print(\"Energy = \", energy)\n",
    "    sampled_bitstrings = ansatz.sample_bitstrings(gamma, beta, 1000)\n",
    "    print(sampled_bitstrings.shape)\n",
    "    energies = [bitstring_energy(sampled_bitstrings[i, :], hamiltonian) for i in range(sampled_bitstrings.shape[0])]\n",
    "    i_best = np.argmin(energies)\n",
    "    print(\"Best energy = \", energies[i_best])\n",
    "    reference = sampled_bitstrings[i, :]"
   ]
  },
  {
   "cell_type": "code",
   "execution_count": null,
   "metadata": {},
   "outputs": [],
   "source": []
  }
 ],
 "metadata": {
  "kernelspec": {
   "display_name": "cqaoa",
   "language": "python",
   "name": "python3"
  },
  "language_info": {
   "codemirror_mode": {
    "name": "ipython",
    "version": 3
   },
   "file_extension": ".py",
   "mimetype": "text/x-python",
   "name": "python",
   "nbconvert_exporter": "python",
   "pygments_lexer": "ipython3",
   "version": "3.12.8"
  }
 },
 "nbformat": 4,
 "nbformat_minor": 2
}
