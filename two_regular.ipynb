{
 "cells": [
  {
   "cell_type": "markdown",
   "id": "6ca7394d",
   "metadata": {},
   "source": [
    "# Cyclic QAOA on two-regular graphs with fixed $p$\n",
    "\n",
    "Examples from section 4 of the QAOA paper."
   ]
  },
  {
   "cell_type": "code",
   "execution_count": 58,
   "id": "76c19c36",
   "metadata": {},
   "outputs": [],
   "source": [
    "from typing import Sequence, Tuple, List\n",
    "import numpy as np\n",
    "import matplotlib.pyplot as plt\n",
    "import networkx as nx\n",
    "import cirq"
   ]
  },
  {
   "cell_type": "code",
   "execution_count": 59,
   "id": "4626d611",
   "metadata": {},
   "outputs": [],
   "source": [
    "def gamma_layer(gamma: float, qubit_graph: nx.Graph) -> cirq.Circuit:\n",
    "    gamma_ckt = cirq.Circuit()\n",
    "    for q1, q2 in qubit_graph.edges:\n",
    "        gamma_ckt.append(cirq.ZZ(q1, q2) ** gamma)\n",
    "    return gamma_ckt"
   ]
  },
  {
   "cell_type": "code",
   "execution_count": 60,
   "id": "15742a5f",
   "metadata": {},
   "outputs": [],
   "source": [
    "def beta_layer(beta: float, qubit_graph: nx.Graph) -> cirq.Circuit:\n",
    "    beta_ckt = cirq.Circuit()\n",
    "    for q in qubit_graph.nodes:\n",
    "        beta_ckt.append(cirq.X(q) ** beta)\n",
    "    return beta_ckt"
   ]
  },
  {
   "cell_type": "code",
   "execution_count": 61,
   "id": "050d9b14",
   "metadata": {},
   "outputs": [],
   "source": [
    "def qaoa_circuit(gammas: np.ndarray, betas: np.ndarray, qubit_graph: nx.Graph) -> cirq.Circuit:\n",
    "    \"\"\"Make a circuit with the given QAOA parameters. The graph determines\n",
    "    the connectivity of the Ansatz.\"\"\"\n",
    "\n",
    "    assert gammas.size == betas.size\n",
    "\n",
    "    qaoa_ckt = cirq.Circuit();\n",
    "    for q in qubit_graph.nodes:\n",
    "        qaoa_ckt.append(cirq.H(q))\n",
    "    for gamma, beta in zip(gammas, betas):\n",
    "        qaoa_ckt += gamma_layer(gamma, qubit_graph)\n",
    "        qaoa_ckt += beta_layer(beta, qubit_graph)\n",
    "    return qaoa_ckt"
   ]
  },
  {
   "cell_type": "code",
   "execution_count": 62,
   "id": "ac7318d2",
   "metadata": {},
   "outputs": [],
   "source": [
    "def maxcut_energy(gammas: np.ndarray, betas: np.ndarray, qubit_graph: nx.Graph) -> float:\n",
    "    \"\"\"Get the energy for specific variational parameters (gamma, beta) and \n",
    "    the given graph (determines both the Ansatz and the Hamiltonian connectivity).\"\"\"\n",
    "\n",
    "    maxcut_observable = cirq.PauliSum()\n",
    "    for q1, q2 in qubit_graph.edges:\n",
    "        maxcut_observable -= cirq.PauliString({q1: cirq.Z, q2: cirq.Z})\n",
    "    qaoa_ckt = qaoa_circuit(gammas, betas, qubit_graph)\n",
    "    sim = cirq.Simulator()\n",
    "    return sim.simulate_expectation_values(qaoa_ckt, [maxcut_observable])[0].real"
   ]
  },
  {
   "cell_type": "code",
   "execution_count": 63,
   "id": "6bce91c1",
   "metadata": {},
   "outputs": [],
   "source": [
    "def energy_grad(gammas: np.ndarray, betas: np.ndarray, qubit_graph: nx.Graph, eps: float=1e-5) -> Tuple[np.ndarray, np.ndarray]:\n",
    "    \"\"\"Get the gradient for the given values of gamma and beta. This uses a finite difference.\"\"\"\n",
    "\n",
    "    gamma_grad = np.zeros(gammas.size)\n",
    "    for i in range(gammas.size):\n",
    "        gamma_plus = gammas.copy()\n",
    "        gamma_plus[i] += eps\n",
    "        gamma_minus = gammas.copy()\n",
    "        gamma_minus[i] -= eps\n",
    "        plus_energy = maxcut_energy(gamma_plus, betas, qubit_graph)\n",
    "        minus_energy = maxcut_energy(gamma_minus, betas, qubit_graph)\n",
    "        gamma_grad[i] = (plus_energy - minus_energy) / (2.0 * eps)\n",
    "    beta_grad = np.zeros(betas.size)\n",
    "    for i in range(betas.size):\n",
    "        beta_plus = betas.copy()\n",
    "        beta_plus[i] += eps\n",
    "        beta_minus = betas.copy()\n",
    "        beta_minus[i] -= eps\n",
    "        plus_energy = maxcut_energy(beta_plus, betas, qubit_graph)\n",
    "        minus_energy = maxcut_energy(beta_minus, betas, qubit_graph)\n",
    "        beta_grad[i] = (plus_energy - minus_energy) / (2.0 * eps)\n",
    "    return gamma_grad, beta_grad"
   ]
  },
  {
   "cell_type": "code",
   "execution_count": 64,
   "id": "4d8ac713",
   "metadata": {},
   "outputs": [],
   "source": [
    "def grad_train(\n",
    "    gamma0: np.ndarray, beta0: np.ndarray, qubit_graph: nx.Graph, \n",
    "    steps: int, eta: float=1e-4, eps: float=1e-5\n",
    ") -> Tuple[List[float], np.ndarray, np.ndarray]:\n",
    "    \"\"\"Train the Ansatz by gradient descent at a rate eta.\"\"\"\n",
    "\n",
    "    assert gamma0.size == beta0.size\n",
    "\n",
    "    gammas: np.ndarray = gamma0.copy()\n",
    "    betas: np.ndarray = beta0.copy()\n",
    "    energies: List[float] = []\n",
    "    energies.append(maxcut_energy(gammas, betas, qubit_graph))\n",
    "    for _ in range(steps):\n",
    "        energy = maxcut_energy(gammas, betas, qubit_graph)\n",
    "        energies.append(energy)\n",
    "        gamma_grad, beta_grad = energy_grad(gammas, betas, qubit_graph)\n",
    "        gammas -= eta * gamma_grad\n",
    "        betas -= eta * beta_grad\n",
    "    return energies, gammas, betas"
   ]
  },
  {
   "cell_type": "code",
   "execution_count": 65,
   "id": "c8b09a3f",
   "metadata": {},
   "outputs": [],
   "source": [
    "qs = cirq.LineQubit.range(5)\n",
    "qubit_graph = nx.Graph()\n",
    "for i in range(len(qs)):\n",
    "    qubit_graph.add_edge(qs[i], qs[(i+1) % len(qs)])\n",
    "\n",
    "gammas = np.random.rand(3)\n",
    "betas = np.random.rand(3)\n",
    "\n",
    "energies, gammas, betas = grad_train(gammas, betas, qubit_graph, 100, 1e-4, 1e-6)"
   ]
  },
  {
   "cell_type": "code",
   "execution_count": 66,
   "id": "1240f26b",
   "metadata": {},
   "outputs": [
    {
     "data": {
      "text/plain": [
       "[<matplotlib.lines.Line2D at 0x12c1d7fd0>]"
      ]
     },
     "execution_count": 66,
     "metadata": {},
     "output_type": "execute_result"
    },
    {
     "data": {
      "image/png": "[encoded data removed]",
      "text/plain": [
       "<Figure size 640x480 with 1 Axes>"
      ]
     },
     "metadata": {},
     "output_type": "display_data"
    }
   ],
   "source": [
    "fig, ax = plt.subplots()\n",
    "ax.plot(energies)"
   ]
  },
  {
   "cell_type": "code",
   "execution_count": null,
   "id": "e35bfe35",
   "metadata": {},
   "outputs": [],
   "source": []
  }
 ],
 "metadata": {
  "kernelspec": {
   "display_name": "k-ansatz",
   "language": "python",
   "name": "python3"
  },
  "language_info": {
   "codemirror_mode": {
    "name": "ipython",
    "version": 3
   },
   "file_extension": ".py",
   "mimetype": "text/x-python",
   "name": "python",
   "nbconvert_exporter": "python",
   "pygments_lexer": "ipython3",
   "version": "3.11.7"
  }
 },
 "nbformat": 4,
 "nbformat_minor": 5
}
