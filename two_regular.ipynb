{
 "cells": [
  {
   "cell_type": "code",
   "execution_count": 1,
   "id": "76c19c36",
   "metadata": {},
   "outputs": [],
   "source": [
    "from typing import Sequence, Tuple, List\n",
    "import numpy as np\n",
    "from scipy.optimize import minimize\n",
    "import matplotlib.pyplot as plt\n",
    "import pandas as pd\n",
    "import networkx as nx\n",
    "import cirq\n",
    "from ansatz import CylicQAOAAnsatz\n",
    "from maxcut import edge_operator, maxcut_hamiltonian, bitstring_energy"
   ]
  },
  {
   "cell_type": "markdown",
   "id": "887fc8a0",
   "metadata": {},
   "source": [
    "## Maximize the subgraph expectation value (QAOA Eqn. 24)."
   ]
  },
  {
   "cell_type": "code",
   "execution_count": 14,
   "id": "c8b09a3f",
   "metadata": {},
   "outputs": [
    {
     "name": "stdout",
     "output_type": "stream",
     "text": [
      "p = 1\n",
      "p = 2\n",
      "p = 3\n",
      "p = 4\n",
      "p = 5\n",
      "      f_max\n",
      "p          \n",
      "1 -0.749999\n",
      "2 -0.833304\n",
      "3 -0.874787\n",
      "4 -0.899941\n",
      "5 -0.905015\n"
     ]
    }
   ],
   "source": [
    "def func_max(p, gamma, beta) -> float:\n",
    "    \"\"\"Maximize the function given the starting values of gamma and beta.\"\"\"\n",
    "\n",
    "    qs = cirq.LineQubit.range(2 * p + 2)\n",
    "    bitstring = [True] * len(qs)\n",
    "    qubit_graph = nx.Graph()\n",
    "    for i in range(len(qs) - 1):\n",
    "        qubit_graph.add_edge(qs[i], qs[(i+1) % len(qs)])\n",
    "    #hamiltonian = maxcut_hamiltonian(qubit_graph)\n",
    "    observable = -1.0 * edge_operator(qs[p], qs[p+1])\n",
    "    qaoa_ansatz = CylicQAOAAnsatz(qubit_graph, observable)\n",
    "\n",
    "    def objective_callback(vars: np.ndarray):\n",
    "        assert vars.size % 2 == 0\n",
    "        \n",
    "        gammas = vars[:(vars.size // 2)]\n",
    "        betas = vars[(vars.size // 2):]\n",
    "        return qaoa_ansatz.energy(gammas, betas)\n",
    "\n",
    "    def gradient_callback(vars:np.ndarray):\n",
    "        assert vars.size % 2 == 0\n",
    "\n",
    "        gammas = vars[:(vars.size // 2)]\n",
    "        betas = vars[(vars.size // 2):]\n",
    "        gamma_grad, beta_grad = qaoa_ansatz.energy_grad(gammas, betas)\n",
    "        return np.concatenate((gamma_grad, beta_grad))\n",
    "\n",
    "    vars0 = np.concatenate((gamma, beta))\n",
    "    #print(gamma.shape, beta.shape, vars0.shape)\n",
    "    opt_result = minimize(objective_callback, vars0, method=\"Powell\")\n",
    "    assert opt_result.success, f\"Optimizer failed: {opt_result.message}\"\n",
    "    return objective_callback(opt_result.x)\n",
    "\n",
    "\n",
    "def func_max_random_starts(p, repetitions) -> float:\n",
    "    \"\"\"Maximize the function with different sets of starting parameters.\n",
    "    Returns only the best one.\"\"\"\n",
    "\n",
    "    gammas = np.random.rand(repetitions, p)\n",
    "    betas = np.random.rand(repetitions, p)\n",
    "    f_maxs = []\n",
    "    for i in range(repetitions):\n",
    "        f_maxs.append(func_max(p, gammas[i, :], betas[i, :]))\n",
    "    return np.min(f_maxs) # The minimum is the best one because we are maximizing, so we use -H.\n",
    "\n",
    "\n",
    "ps = range(1, 6)\n",
    "f_max = []\n",
    "for p in ps:\n",
    "    print(f\"p = {p}\")\n",
    "\n",
    "    # Optimize the expectation value using Scipy's optimizer.\n",
    "    gammas = np.random.rand(p)\n",
    "    betas = np.random.rand(p)\n",
    "    f_max.append(func_max_random_starts(p, 10))\n",
    "\n",
    "df = pd.DataFrame({\"p\": ps, \"f_max\": f_max})\n",
    "df.set_index(\"p\", inplace=True)\n",
    "print(df.head())"
   ]
  },
  {
   "cell_type": "code",
   "execution_count": 15,
   "id": "41bd48cf",
   "metadata": {},
   "outputs": [],
   "source": [
    "df.to_csv(\"cycle_maxima.csv\")"
   ]
  },
  {
   "cell_type": "code",
   "execution_count": 16,
   "id": "cb5ff6e9",
   "metadata": {},
   "outputs": [],
   "source": [
    "def exact_f_max(p):\n",
    "    \"\"\"See section 4 of QAOA paper.\"\"\"\n",
    "\n",
    "    return (2 * p + 1) / (2 * p + 2)\n",
    "\n",
    "exact_maxima = np.array([exact_f_max(p) for p in ps])"
   ]
  },
  {
   "cell_type": "code",
   "execution_count": 17,
   "id": "e1df0b4d",
   "metadata": {},
   "outputs": [
    {
     "data": {
      "image/png": "[encoded data removed]",
      "text/plain": [
       "<Figure size 640x480 with 1 Axes>"
      ]
     },
     "metadata": {},
     "output_type": "display_data"
    }
   ],
   "source": [
    "fig, ax = plt.subplots()\n",
    "ax.plot(ps, exact_maxima, '-', label=\"Exact\")\n",
    "ax.scatter(ps, -1.0 * np.array(f_max), c=\"red\", label=\"Numerical value\")\n",
    "ax.set_xlabel(r\"$p$\")\n",
    "ax.set_ylabel(r\"max $f_g(\\gamma, \\beta)$\")\n",
    "plt.legend()\n",
    "plt.savefig(\"maxima.pdf\")"
   ]
  },
  {
   "cell_type": "markdown",
   "id": "b4c608fb",
   "metadata": {},
   "source": [
    "## Approximation ratio for the cycle graph."
   ]
  },
  {
   "cell_type": "code",
   "execution_count": 3,
   "id": "ada3ab27",
   "metadata": {},
   "outputs": [
    {
     "name": "stdout",
     "output_type": "stream",
     "text": [
      "p = 0, Approximation ratio: 1.0\n",
      "p = 1, Approximation ratio: 1.0\n",
      "p = 2, Approximation ratio: 1.0\n",
      "p = 3, Approximation ratio: 1.0\n",
      "p = 4, Approximation ratio: 1.0\n"
     ]
    }
   ],
   "source": [
    "def approximation_ratio_fixed_start(n: int, gamma: np.ndarray, beta: np.ndarray) -> float:\n",
    "    \"\"\"Get the approximation ratio for given starting values of gamma and beta.\"\"\"\n",
    "\n",
    "    assert gamma.size == beta.size\n",
    "\n",
    "    # Define a cycle graph for the MaxCut problem.\n",
    "    qs = cirq.LineQubit.range(n)\n",
    "    qubit_graph = nx.Graph()\n",
    "    for i in range(len(qs)):\n",
    "        qubit_graph.add_edge(qs[i], qs[(i+1) % len(qs)])\n",
    "    hamiltonian = maxcut_hamiltonian(qubit_graph)\n",
    "    ansatz = CylicQAOAAnsatz(qubit_graph, hamiltonian)\n",
    "\n",
    "    # Optimize the energy numerically.\n",
    "    def objective_callback(vars: np.ndarray):\n",
    "        assert vars.size % 2 == 0\n",
    "        \n",
    "        gammas = vars[:(vars.size // 2)]\n",
    "        betas = vars[(vars.size // 2):]\n",
    "        return ansatz.energy(gammas, betas)\n",
    "    \n",
    "    vars0 = np.concatenate((gamma, beta))\n",
    "    opt_result = minimize(objective_callback, vars0, method=\"Powell\", options={\"maxiter\": 1_000_000})\n",
    "    assert opt_result.success, f\"Optimizer failed: {opt_result.message}\"\n",
    "    optimized_energy =  objective_callback(opt_result.x)\n",
    "    gamma_opt = opt_result.x[:gamma.size]\n",
    "    beta_opt = opt_result.x[gamma.size:]\n",
    "\n",
    "    # Sample bitstrings from the circuit with optimal parameters, and get their energies.\n",
    "    bitstrings = ansatz.sample_bitstrings(gamma_opt, beta_opt, 1_000)\n",
    "    sampled_energies = [bitstring_energy(bitstrings[i, :], hamiltonian) for i in range(bitstrings.shape[0])]\n",
    "\n",
    "    # Return the ratio of the optimized and ideal energies. \n",
    "    if n % 2 == 0:\n",
    "        ideal_energy = n\n",
    "    else:\n",
    "        ideal_energy = n - 1\n",
    "    #return -optimized_energy / ideal_energy\n",
    "    return -np.min(sampled_energies) / ideal_energy\n",
    "\n",
    "\n",
    "def approximation_ratio_random_starts(n: int, p: int, trials: int) -> float:\n",
    "    \"\"\"Get the maximum of the approximation ratio, starting from different gammas and betas.\"\"\"\n",
    "\n",
    "    gammas = np.random.rand(trials, p)\n",
    "    betas = np.random.rand(trials, p)\n",
    "    all_approximation_ratios = []\n",
    "    for i in range(n):\n",
    "        all_approximation_ratios.append(approximation_ratio_fixed_start(n, gammas[i, :], betas[i, :]))\n",
    "    return np.max(all_approximation_ratios)\n",
    "\n",
    "n = 5\n",
    "for p in range(5):\n",
    "    gamma0 = np.random.rand(p)\n",
    "    beta0 = np.random.rand(p)\n",
    "    approx = approximation_ratio_random_starts(n, p, 10)\n",
    "    print(f\"p = {p}, Approximation ratio: {approx}\")"
   ]
  },
  {
   "cell_type": "code",
   "execution_count": null,
   "id": "0c0149a5",
   "metadata": {},
   "outputs": [],
   "source": []
  },
  {
   "cell_type": "code",
   "execution_count": null,
   "id": "9a54b1b2",
   "metadata": {},
   "outputs": [],
   "source": []
  }
 ],
 "metadata": {
  "kernelspec": {
   "display_name": "cqaoa",
   "language": "python",
   "name": "python3"
  },
  "language_info": {
   "codemirror_mode": {
    "name": "ipython",
    "version": 3
   },
   "file_extension": ".py",
   "mimetype": "text/x-python",
   "name": "python",
   "nbconvert_exporter": "python",
   "pygments_lexer": "ipython3",
   "version": "3.12.8"
  }
 },
 "nbformat": 4,
 "nbformat_minor": 5
}
