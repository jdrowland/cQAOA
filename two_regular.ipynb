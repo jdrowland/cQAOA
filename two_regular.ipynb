{
 "cells": [
  {
   "cell_type": "code",
   "execution_count": 10,
   "id": "76c19c36",
   "metadata": {},
   "outputs": [],
   "source": [
    "from typing import Sequence, Tuple, List\n",
    "import numpy as np\n",
    "from scipy.optimize import minimize\n",
    "import matplotlib.pyplot as plt\n",
    "import pandas as pd\n",
    "import networkx as nx\n",
    "import cirq"
   ]
  },
  {
   "cell_type": "code",
   "execution_count": 11,
   "id": "4626d611",
   "metadata": {},
   "outputs": [],
   "source": [
    "def gamma_layer(gamma: float, qubit_graph: nx.Graph) -> cirq.Circuit:\n",
    "    gamma_ckt = cirq.Circuit()\n",
    "    for q1, q2 in qubit_graph.edges:\n",
    "        gamma_ckt.append(cirq.ZZ(q1, q2) ** gamma)\n",
    "    return gamma_ckt"
   ]
  },
  {
   "cell_type": "code",
   "execution_count": 12,
   "id": "15742a5f",
   "metadata": {},
   "outputs": [],
   "source": [
    "def beta_layer(beta: float, qubit_graph: nx.Graph) -> cirq.Circuit:\n",
    "    beta_ckt = cirq.Circuit()\n",
    "    for q in qubit_graph.nodes:\n",
    "        beta_ckt.append(cirq.X(q) ** beta)\n",
    "    return beta_ckt"
   ]
  },
  {
   "cell_type": "code",
   "execution_count": 13,
   "id": "4f5b0301",
   "metadata": {},
   "outputs": [],
   "source": [
    "def alpha_layer(alpha: float, qubit_graph: nx.Graph) -> cirq.Circuit:\n",
    "    alpha_ckt = cirq.Circuit()\n",
    "    for q in qubit_graph.nodes:\n",
    "        alpha_ckt.append(cirq.Z(q) ** alpha)\n",
    "    return alpha_ckt"
   ]
  },
  {
   "cell_type": "code",
   "execution_count": 14,
   "id": "050d9b14",
   "metadata": {},
   "outputs": [],
   "source": [
    "def qaoa_circuit(gammas: np.ndarray, betas: np.ndarray, qubit_graph: nx.Graph) -> cirq.Circuit:\n",
    "    \"\"\"Make a circuit with the given QAOA parameters. The graph determines\n",
    "    the connectivity of the Ansatz.\"\"\"\n",
    "\n",
    "    assert gammas.size == betas.size\n",
    "\n",
    "    qaoa_ckt = cirq.Circuit()\n",
    "    for q in qubit_graph.nodes:\n",
    "        qaoa_ckt.append(cirq.H(q))\n",
    "    for gamma, beta in zip(gammas, betas):\n",
    "        qaoa_ckt += gamma_layer(gamma, qubit_graph)\n",
    "        qaoa_ckt += beta_layer(beta, qubit_graph)\n",
    "    return qaoa_ckt"
   ]
  },
  {
   "cell_type": "code",
   "execution_count": 15,
   "id": "2dedd3ee",
   "metadata": {},
   "outputs": [],
   "source": [
    "def maxcut_hamiltonian(qubit_graph: nx.Graph) -> cirq.PauliSum:\n",
    "    ham = cirq.PauliSum()\n",
    "    for q1, q2 in qubit_graph.edges:\n",
    "        ham += -1.0 * edge_operator(q1, q2)\n",
    "    return ham\n",
    "\n",
    "def edge_operator(q1: cirq.Qid, q2: cirq.Qid) -> cirq.PauliSum:\n",
    "    \"\"\"Eqn. 12 of QAOA paper.\"\"\"\n",
    "\n",
    "    return -0.5 * cirq.PauliString({q1: cirq.Z, q2: cirq.Z}) + 0.5 * cirq.PauliString()"
   ]
  },
  {
   "cell_type": "code",
   "execution_count": 16,
   "id": "ac7318d2",
   "metadata": {},
   "outputs": [],
   "source": [
    "def maxcut_energy(gammas: np.ndarray, betas: np.ndarray, qubit_graph: nx.Graph, observable: cirq.PauliSum) -> float:\n",
    "    \"\"\"Get the energy for specific variational parameters (gamma, beta) and \n",
    "    the given graph (determines both the Ansatz and the Hamiltonian connectivity).\"\"\"\n",
    "\n",
    "    maxcut_observable = cirq.PauliSum()\n",
    "    qaoa_ckt = qaoa_circuit(gammas, betas, qubit_graph)\n",
    "    sim = cirq.Simulator()\n",
    "    return sim.simulate_expectation_values(qaoa_ckt, [observable])[0].real"
   ]
  },
  {
   "cell_type": "code",
   "execution_count": 17,
   "id": "6bce91c1",
   "metadata": {},
   "outputs": [],
   "source": [
    "def energy_grad(gammas: np.ndarray, betas: np.ndarray, qubit_graph: nx.Graph, observable: cirq.PauliSum, eps: float=1e-5) -> Tuple[np.ndarray, np.ndarray]:\n",
    "    \"\"\"Get the gradient for the given values of gamma and beta. This uses a finite difference.\"\"\"\n",
    "\n",
    "    gamma_grad = np.zeros(gammas.size)\n",
    "    for i in range(gammas.size):\n",
    "        gamma_plus = gammas.copy()\n",
    "        gamma_plus[i] += eps\n",
    "        gamma_minus = gammas.copy()\n",
    "        gamma_minus[i] -= eps\n",
    "        plus_energy = maxcut_energy(gamma_plus, betas, qubit_graph, observable)\n",
    "        minus_energy = maxcut_energy(gamma_minus, betas, qubit_graph, observable)\n",
    "        gamma_grad[i] = (plus_energy - minus_energy) / (2.0 * eps)\n",
    "    beta_grad = np.zeros(betas.size)\n",
    "    for i in range(betas.size):\n",
    "        beta_plus = betas.copy()\n",
    "        beta_plus[i] += eps\n",
    "        beta_minus = betas.copy()\n",
    "        beta_minus[i] -= eps\n",
    "        plus_energy = maxcut_energy(gammas, beta_plus, qubit_graph, observable)\n",
    "        minus_energy = maxcut_energy(gammas, beta_minus, qubit_graph, observable)\n",
    "        beta_grad[i] = (plus_energy - minus_energy) / (2.0 * eps)\n",
    "    return gamma_grad, beta_grad"
   ]
  },
  {
   "cell_type": "code",
   "execution_count": 18,
   "id": "c8b09a3f",
   "metadata": {},
   "outputs": [
    {
     "name": "stdout",
     "output_type": "stream",
     "text": [
      "p = 1\n",
      "p = 2\n"
     ]
    },
    {
     "name": "stderr",
     "output_type": "stream",
     "text": [
      "/var/folders/rv/3v7hvpgn6ks14zr4w90jz4zc0000gn/T/ipykernel_2484/3333057980.py:31: RuntimeWarning: Method Nelder-Mead does not use gradient information (jac).\n",
      "  opt_result = minimize(objective_callback, vars0, jac=gradient_callback, method=\"Nelder-Mead\")\n",
      "/var/folders/rv/3v7hvpgn6ks14zr4w90jz4zc0000gn/T/ipykernel_2484/3333057980.py:31: RuntimeWarning: Method Nelder-Mead does not use gradient information (jac).\n",
      "  opt_result = minimize(objective_callback, vars0, jac=gradient_callback, method=\"Nelder-Mead\")\n"
     ]
    },
    {
     "name": "stdout",
     "output_type": "stream",
     "text": [
      "p = 3\n"
     ]
    },
    {
     "name": "stderr",
     "output_type": "stream",
     "text": [
      "/var/folders/rv/3v7hvpgn6ks14zr4w90jz4zc0000gn/T/ipykernel_2484/3333057980.py:31: RuntimeWarning: Method Nelder-Mead does not use gradient information (jac).\n",
      "  opt_result = minimize(objective_callback, vars0, jac=gradient_callback, method=\"Nelder-Mead\")\n"
     ]
    },
    {
     "name": "stdout",
     "output_type": "stream",
     "text": [
      "p = 4\n"
     ]
    },
    {
     "name": "stderr",
     "output_type": "stream",
     "text": [
      "/var/folders/rv/3v7hvpgn6ks14zr4w90jz4zc0000gn/T/ipykernel_2484/3333057980.py:31: RuntimeWarning: Method Nelder-Mead does not use gradient information (jac).\n",
      "  opt_result = minimize(objective_callback, vars0, jac=gradient_callback, method=\"Nelder-Mead\")\n"
     ]
    },
    {
     "name": "stdout",
     "output_type": "stream",
     "text": [
      "      f_max\n",
      "p          \n",
      "1 -0.750000\n",
      "2 -0.833334\n",
      "3 -0.875000\n",
      "4 -0.884038\n"
     ]
    }
   ],
   "source": [
    "ps = range(1, 5)\n",
    "f_max = []\n",
    "for p in ps:\n",
    "    print(f\"p = {p}\")\n",
    "    qs = cirq.LineQubit.range(2 * p + 2)\n",
    "    qubit_graph = nx.Graph()\n",
    "    for i in range(len(qs) - 1):\n",
    "        qubit_graph.add_edge(qs[i], qs[(i+1) % len(qs)])\n",
    "    #hamiltonian = maxcut_hamiltonian(qubit_graph)\n",
    "    observable = -1.0 * edge_operator(qs[p], qs[p+1])\n",
    "\n",
    "    def gradient_callback(vars):\n",
    "        assert vars.size % 2 == 0\n",
    "        gammas = vars[:(vars.size // 2)]\n",
    "        betas = vars[(vars.size // 2):]\n",
    "        assert gammas.size + betas.size == vars.size\n",
    "        gamma_grad, beta_grad = energy_grad(gammas, betas, qubit_graph, observable)\n",
    "        return np.concatenate((gamma_grad, beta_grad))\n",
    "\n",
    "    def objective_callback(vars):\n",
    "        assert vars.size % 2 == 0\n",
    "        gammas = vars[:(vars.size // 2)]\n",
    "        betas = vars[(vars.size // 2):]\n",
    "        assert gammas.size + betas.size == vars.size\n",
    "        return maxcut_energy(gammas, betas, qubit_graph, observable)\n",
    "\n",
    "    # Optimize the expectation value using Scipy's optimizer.\n",
    "    gammas = np.random.rand(p)\n",
    "    betas = np.random.rand(p)\n",
    "    vars0 = np.concatenate((gammas, betas))\n",
    "    opt_result = minimize(objective_callback, vars0, jac=gradient_callback, method=\"Nelder-Mead\")\n",
    "    assert opt_result.success, f\"Optimizer failed: {opt_result.message}\"\n",
    "    f_max.append(objective_callback(opt_result.x))\n",
    "\n",
    "df = pd.DataFrame({\"p\": ps, \"f_max\": f_max})\n",
    "df.set_index(\"p\", inplace=True)\n",
    "print(df.head())"
   ]
  },
  {
   "cell_type": "code",
   "execution_count": 19,
   "id": "41bd48cf",
   "metadata": {},
   "outputs": [],
   "source": [
    "df.to_csv(\"cycle_maxima.csv\")"
   ]
  },
  {
   "cell_type": "code",
   "execution_count": 20,
   "id": "cb5ff6e9",
   "metadata": {},
   "outputs": [],
   "source": [
    "def exact_f_max(p):\n",
    "    \"\"\"See section 4 of QAOA paper.\"\"\"\n",
    "\n",
    "    return (2 * p + 1) / (2 * p + 2)\n",
    "\n",
    "exact_maxima = np.array([exact_f_max(p) for p in ps])"
   ]
  },
  {
   "cell_type": "code",
   "execution_count": 21,
   "id": "e1df0b4d",
   "metadata": {},
   "outputs": [
    {
     "data": {
      "image/png": "[encoded data removed]",
      "text/plain": [
       "<Figure size 640x480 with 1 Axes>"
      ]
     },
     "metadata": {},
     "output_type": "display_data"
    }
   ],
   "source": [
    "fig, ax = plt.subplots()\n",
    "ax.plot(ps, exact_maxima, '-', label=\"Exact\")\n",
    "ax.scatter(ps, -1.0 * np.array(f_max), c=\"red\", label=\"Numerical value\")\n",
    "ax.set_xlabel(r\"$p$\")\n",
    "ax.set_ylabel(r\"max $f_g(\\gamma, \\beta)$\")\n",
    "plt.legend()\n",
    "plt.savefig(\"maxima.pdf\")"
   ]
  },
  {
   "cell_type": "code",
   "execution_count": null,
   "id": "ada3ab27",
   "metadata": {},
   "outputs": [],
   "source": []
  }
 ],
 "metadata": {
  "kernelspec": {
   "display_name": "cqaoa",
   "language": "python",
   "name": "python3"
  },
  "language_info": {
   "codemirror_mode": {
    "name": "ipython",
    "version": 3
   },
   "file_extension": ".py",
   "mimetype": "text/x-python",
   "name": "python",
   "nbconvert_exporter": "python",
   "pygments_lexer": "ipython3",
   "version": "3.12.8"
  }
 },
 "nbformat": 4,
 "nbformat_minor": 5
}
