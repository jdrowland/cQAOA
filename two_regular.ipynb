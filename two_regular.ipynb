{
 "cells": [
  {
   "cell_type": "markdown",
   "id": "6ca7394d",
   "metadata": {},
   "source": [
    "# Cyclic QAOA on two-regular graphs with fixed $p$\n",
    "\n",
    "Examples from section 4 of the QAOA paper."
   ]
  },
  {
   "cell_type": "code",
   "execution_count": 1,
   "id": "76c19c36",
   "metadata": {},
   "outputs": [],
   "source": [
    "from typing import Sequence, Tuple\n",
    "import numpy as np\n",
    "import sympy\n",
    "import matplotlib.pyplot as plt\n",
    "import cirq\n",
    "import copy"
   ]
  },
  {
   "cell_type": "code",
   "execution_count": null,
   "id": "4626d611",
   "metadata": {},
   "outputs": [],
   "source": []
  }
 ],
 "metadata": {
  "kernelspec": {
   "display_name": "k-ansatz",
   "language": "python",
   "name": "python3"
  },
  "language_info": {
   "codemirror_mode": {
    "name": "ipython",
    "version": 3
   },
   "file_extension": ".py",
   "mimetype": "text/x-python",
   "name": "python",
   "nbconvert_exporter": "python",
   "pygments_lexer": "ipython3",
   "version": "3.11.7"
  }
 },
 "nbformat": 4,
 "nbformat_minor": 5
}
